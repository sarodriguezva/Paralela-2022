{
 "cells": [
  {
   "cell_type": "markdown",
   "metadata": {},
   "source": [
    "# Hilos POSIX"
   ]
  },
  {
   "cell_type": "markdown",
   "metadata": {},
   "source": [
    "## Cálculo de pi secuencial"
   ]
  },
  {
   "cell_type": "code",
   "execution_count": 17,
   "metadata": {},
   "outputs": [
    {
     "name": "stdout",
     "output_type": "stream",
     "text": [
      "Time elapsed: 10.194914\n",
      "\n",
      "pi: 3.141592652588 \n"
     ]
    }
   ],
   "source": [
    "//%cflags:-fopenmp -lm -D_DEFAULT_SOURCE\n",
    "\n",
    "#include <stdio.h>\n",
    "#include <stdlib.h>\n",
    "#include <sys/time.h>\n",
    "\n",
    "#define ITERATIONS 1e09\n",
    "\n",
    "int calculatePi(double *piTotal){   \n",
    "    int i = 0;\n",
    "    do{\n",
    "        *piTotal = *piTotal + (double)(4.0 / ((i*2)+1));\n",
    "        i++;\n",
    "        *piTotal = *piTotal - (double)(4.0 / ((i*2)+1));\n",
    "        i++;\n",
    "    }while(i < ITERATIONS);\n",
    "    return 0;\n",
    "}\n",
    "\n",
    "\n",
    "int main()\n",
    "{\n",
    "    double pi;\n",
    "    struct timeval tval_before, tval_after, tval_result;\n",
    "\n",
    "    gettimeofday(&tval_before, NULL);\n",
    "    pi = 0;\n",
    "    calculatePi(&pi);\n",
    "    gettimeofday(&tval_after, NULL);\n",
    "    timersub(&tval_after, &tval_before, &tval_result);\n",
    "\n",
    "    printf(\"Time elapsed: %ld.%06ld\\n\", (long int)tval_result.tv_sec, (long int)tval_result.tv_usec);\n",
    "    printf(\"\\npi: %2.12f \\n\", pi);\n",
    "}"
   ]
  },
  {
   "cell_type": "markdown",
   "metadata": {},
   "source": [
    "## Cálculo de pi con dos procesos"
   ]
  },
  {
   "cell_type": "code",
   "execution_count": 18,
   "metadata": {},
   "outputs": [
    {
     "name": "stdout",
     "output_type": "stream",
     "text": [
      "Time elapsed: 4.680956\n",
      "\n",
      "pi: 3.141592652589 \n"
     ]
    }
   ],
   "source": [
    "//%cflags:-fopenmp -lm -D_DEFAULT_SOURCE\n",
    "\n",
    "#include <stdio.h>\n",
    "#include <stdlib.h>\n",
    "#include <unistd.h>\n",
    "#include <sys/types.h>\n",
    "#include <sys/time.h>\n",
    "\n",
    "#define ITERATIONS 1e09\n",
    "\n",
    "int calculatePi(double *piTotal, int initIteration, int endIteration)\n",
    "{   int i = initIteration;\n",
    "    \n",
    "    do{\n",
    "        *piTotal = *piTotal + (double)(4.0 / ((i*2)+1));\n",
    "        i++;\n",
    "        *piTotal = *piTotal - (double)(4.0 / ((i*2)+1));\n",
    "        i++;\n",
    "    }while(i < endIteration);\n",
    "\n",
    "    return 0;\n",
    "}\n",
    "\n",
    "\n",
    "int main(){\n",
    "    double pi, pi_hijo;\n",
    "    int pipefd[2], r;\n",
    "    pid_t pid;\n",
    "    struct timeval tval_before, tval_after, tval_result;\n",
    "    gettimeofday(&tval_before, NULL);\n",
    "    r = pipe(pipefd);\n",
    "    if(r < 0){\n",
    "        perror(\"error pipe: \");\n",
    "        exit(-1);\n",
    "    }\n",
    "    pi = 0;\n",
    "    pid = fork();\n",
    "    if(pid < 0){\n",
    "        perror(\"Error en fork \");\n",
    "        exit(-1);\n",
    "    } \n",
    "    if(pid == 0){  //hijo\n",
    "        close(pipefd[0]);\n",
    "        calculatePi(&pi, 0, (ITERATIONS/2) );\n",
    "        r = write(pipefd[1], &pi, sizeof(double));\n",
    "        if(r <= 0){\n",
    "            perror(\"error write: \");\n",
    "            exit(-1);\n",
    "        }        \n",
    "        close(pipefd[1]);\n",
    "        exit(0);\n",
    "    }else{   \n",
    "        close(pipefd[1]);\n",
    "        calculatePi(&pi, (ITERATIONS/2), ITERATIONS);\n",
    "        r = read(pipefd[0], &pi_hijo, sizeof(double));\n",
    "        if(r <= 0){\n",
    "            perror(\"error read: \");\n",
    "            exit(-1);\n",
    "        }\n",
    "        close(pipefd[0]);\n",
    "        pi = pi + pi_hijo;\n",
    "    }\n",
    "    gettimeofday(&tval_after, NULL);\n",
    "    timersub(&tval_after, &tval_before, &tval_result);\n",
    "    printf(\"Time elapsed: %ld.%06ld\\n\", (long int)tval_result.tv_sec, (long int)tval_result.tv_usec);\n",
    "    \n",
    "    printf(\"\\npi: %2.12f \\n\", pi);\n",
    "    return 0;\n",
    "}\n"
   ]
  },
  {
   "cell_type": "markdown",
   "metadata": {},
   "source": [
    "## Cálculo de pi con hilos posix"
   ]
  },
  {
   "cell_type": "code",
   "execution_count": 16,
   "metadata": {},
   "outputs": [
    {
     "name": "stdout",
     "output_type": "stream",
     "text": [
      "Time elapsed: 4.190176\n",
      "\n",
      "pi: 3.141592652589 \n"
     ]
    }
   ],
   "source": [
    "//%cflags:-lpthread -lm -D_DEFAULT_SOURCE\n",
    "#include <stdio.h>\n",
    "#include <stdlib.h>\n",
    "#include <unistd.h>\n",
    "#include <pthread.h>\n",
    "#include <sys/time.h>\n",
    "\n",
    "#define ITERATIONS 1e09\n",
    "#define THREADS 4\n",
    "\n",
    "double piTotal[THREADS];\n",
    "\n",
    "void *calculatePi(void *arg)\n",
    "{\n",
    "  int initIteration, endIteration, threadId = *(int *)arg;\n",
    "\n",
    "  initIteration = (ITERATIONS/THREADS) * threadId;\n",
    "  endIteration = initIteration + ((ITERATIONS/THREADS) - 1);\n",
    "  piTotal[threadId] = 0.0;\n",
    "    do{\n",
    "        piTotal[threadId] = piTotal[threadId] + (double)(4.0 / ((initIteration*2)+1));\n",
    "        initIteration++;\n",
    "        piTotal[threadId] = piTotal[threadId] - (double)(4.0 / ((initIteration*2)+1));\n",
    "        initIteration++;\n",
    "    }while(initIteration < endIteration);\n",
    "\n",
    "    return 0;\n",
    "}\n",
    "\n",
    "int main()\n",
    "{\n",
    "    int threadId[THREADS], i, *retval;\n",
    "    pthread_t thread[THREADS];\n",
    "    struct timeval tval_before, tval_after, tval_result;\n",
    "\n",
    "    gettimeofday(&tval_before, NULL);\n",
    "    \n",
    "    for(i = 0; i < THREADS; i++){\n",
    "        threadId[i] = i;\n",
    "        pthread_create(&thread[i], NULL, (void *)calculatePi, &threadId[i]);\n",
    "    }\n",
    "\n",
    "    for(i = 0; i < THREADS; i++){\n",
    "        pthread_join(thread[i], (void **)&retval);\n",
    "    }\n",
    "\n",
    "    for(i = 1; i < THREADS; i++){\n",
    "        piTotal[0] = piTotal[0] + piTotal[i];\n",
    "    }\n",
    "    gettimeofday(&tval_after, NULL);\n",
    "    timersub(&tval_after, &tval_before, &tval_result);\n",
    "    printf(\"Time elapsed: %ld.%06ld\\n\", (long int)tval_result.tv_sec, (long int)tval_result.tv_usec);\n",
    "    \n",
    "    printf(\"\\npi: %2.12f \\n\", piTotal[0]);\n",
    "}\n"
   ]
  },
  {
   "cell_type": "code",
   "execution_count": 4,
   "metadata": {},
   "outputs": [
    {
     "name": "stdout",
     "output_type": "stream",
     "text": [
      "Time elapsed: 4.487872\n",
      "\n",
      "pi: 3.141592658507 \n"
     ]
    }
   ],
   "source": [
    "//%cflags:-lpthread -lm -D_DEFAULT_SOURCE -pg \n",
    "#include <stdio.h>\n",
    "#include <stdlib.h>\n",
    "#include <unistd.h>\n",
    "#include <pthread.h>\n",
    "#include <sys/time.h>\n",
    "\n",
    "#define ITERATIONS 2e09\n",
    "#define THREADS 16\n",
    "\n",
    "double piTotal[THREADS];\n",
    "\n",
    "void *calculatePi(void *arg)\n",
    "{\n",
    "  int initIteration, endIteration, threadId = *(int *)arg;\n",
    "\n",
    "  initIteration = (ITERATIONS/THREADS) * threadId;\n",
    "  endIteration = initIteration + ((ITERATIONS/THREADS) - 1);\n",
    "  piTotal[threadId] = 0.0;\n",
    "    do{\n",
    "        piTotal[threadId] = piTotal[threadId] + (double)(4.0 / ((initIteration*2)+1));\n",
    "        initIteration++;\n",
    "        piTotal[threadId] = piTotal[threadId] - (double)(4.0 / ((initIteration*2)+1));\n",
    "        initIteration++;\n",
    "    }while(initIteration < endIteration);\n",
    "\n",
    "    return 0;\n",
    "}\n",
    "\n",
    "int main()\n",
    "{\n",
    "    int threadId[THREADS], i, *retval;\n",
    "    pthread_t thread[THREADS];\n",
    "    struct timeval tval_before, tval_after, tval_result;\n",
    "\n",
    "    gettimeofday(&tval_before, NULL);\n",
    "    \n",
    "    for(i = 0; i < THREADS; i++){\n",
    "        threadId[i] = i;\n",
    "        pthread_create(&thread[i], NULL, (void *)calculatePi, &threadId[i]);\n",
    "    \n",
    "    }\n",
    "\n",
    "    for(i = 0; i < THREADS; i++){\n",
    "        pthread_join(thread[i], (void **)&retval);\n",
    "    }\n",
    "\n",
    "    for(i = 1; i < THREADS; i++){\n",
    "        piTotal[0] = piTotal[0] + piTotal[i];\n",
    "    }\n",
    "    gettimeofday(&tval_after, NULL);\n",
    "    timersub(&tval_after, &tval_before, &tval_result);\n",
    "    printf(\"Time elapsed: %ld.%06ld\\n\", (long int)tval_result.tv_sec, (long int)tval_result.tv_usec);\n",
    "    \n",
    "    printf(\"\\npi: %2.12f \\n\", piTotal[0]);\n",
    "}\n"
   ]
  }
 ],
 "metadata": {
  "kernelspec": {
   "display_name": "C",
   "language": "c",
   "name": "c"
  },
  "language_info": {
   "file_extension": ".c",
   "mimetype": "text/plain",
   "name": "c"
  }
 },
 "nbformat": 4,
 "nbformat_minor": 2
}
